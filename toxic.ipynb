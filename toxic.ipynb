{
 "cells": [
  {
   "attachments": {},
   "cell_type": "markdown",
   "id": "a3af8cf7",
   "metadata": {},
   "source": [
    "# Multi-label Toxic Comment Classification"
   ]
  },
  {
   "attachments": {},
   "cell_type": "markdown",
   "id": "09fba1b3",
   "metadata": {},
   "source": [
    "## 1 - Introducion"
   ]
  },
  {
   "attachments": {},
   "cell_type": "markdown",
   "id": "bc147b89",
   "metadata": {},
   "source": [
    "In this project, we tackle the multi-label toxic comment classification problem using a dataset from the Toxic Comment Classification Challenge on Kaggle.\n",
    "\n",
    "The dataset consists of a large number of Wikipedia comments, labeled with six categories of toxicity:\n",
    "- toxic\n",
    "- severe_toxic\n",
    "- obscene\n",
    "- threat\n",
    "- insult\n",
    "- identity_hate\n",
    "\n",
    "Our goal is to build a machine learning model that can accurately identify and classify the presence of these toxic elements in the comments."
   ]
  },
  {
   "attachments": {},
   "cell_type": "markdown",
   "id": "5fb9759b",
   "metadata": {},
   "source": [
    "## 2 - Installing / Importing / Download"
   ]
  },
  {
   "attachments": {},
   "cell_type": "markdown",
   "id": "164cb81e",
   "metadata": {},
   "source": [
    "Before start, you need to unzip the data file and download and unzip the GloVe embedding weights.<br><br>\n",
    "The toxic datasets can be downloaded under [this link](https://www.kaggle.com/competitions/jigsaw-toxic-comment-classification-challenge/data).<br>\n",
    "Also, the GloVe files can be downloaded manually under [this link](https://nlp.stanford.edu/data/glove.6B.zip).<br><br>\n",
    "The below cell script will make it happen automatically."
   ]
  },
  {
   "cell_type": "code",
   "execution_count": null,
   "id": "da6c24d8",
   "metadata": {},
   "outputs": [],
   "source": [
    "!unzip data.zip\n",
    "!wget https://nlp.stanford.edu/data/glove.6B.zip\n",
    "!unzip -p glove.6B.zip glove.6B.100d.txt > data/glove.6B.100d.txt"
   ]
  },
  {
   "attachments": {},
   "cell_type": "markdown",
   "id": "bb0b2f09",
   "metadata": {},
   "source": [
    "After having the datasets and the GloVe file inside '/data' folder, it's time to install needed Python libraries."
   ]
  },
  {
   "cell_type": "code",
   "execution_count": null,
   "id": "52b6a78f",
   "metadata": {
    "scrolled": true
   },
   "outputs": [],
   "source": [
    "%pip install -r requirements.txt"
   ]
  },
  {
   "attachments": {},
   "cell_type": "markdown",
   "id": "891deac8",
   "metadata": {},
   "source": [
    "Import all necessary libraries for data manipulation, visualization, text processing, and model building."
   ]
  },
  {
   "cell_type": "code",
   "execution_count": 1,
   "id": "f8bd9857",
   "metadata": {},
   "outputs": [],
   "source": [
    "# Importing necessary libraries\n",
    "import os\n",
    "\n",
    "# Importing Matplotlib and Seaborn libraries - data visualization\n",
    "import seaborn as sns\n",
    "import matplotlib.pyplot as plt\n",
    "%matplotlib inline\n",
    "\n",
    "# Importing Pandas and Numpy libraries - data manipulation\n",
    "import pandas as pd\n",
    "import numpy as np\n",
    "\n",
    "# Importing Swifter library - faster Pandas apply\n",
    "import swifter\n",
    "\n",
    "# Importing NLTK libraries - text processing\n",
    "import re\n",
    "import string\n",
    "import nltk\n",
    "from nltk import pos_tag\n",
    "from nltk.stem import WordNetLemmatizer\n",
    "from nltk.tokenize import word_tokenize\n",
    "from nltk.corpus import stopwords, wordnet\n",
    "\n",
    "# Importing Keras libraries - model building\n",
    "from tensorflow.keras.preprocessing.text import Tokenizer\n",
    "from tensorflow.keras.preprocessing.sequence import pad_sequences\n",
    "from tensorflow.keras.models import Model\n",
    "from tensorflow.keras.layers import Input, Embedding, LSTM, Dense\n",
    "from tensorflow.keras.metrics import Precision, Recall"
   ]
  },
  {
   "cell_type": "code",
   "execution_count": null,
   "id": "403cf180",
   "metadata": {},
   "outputs": [],
   "source": [
    "# Downloading NLTK libraries - text processing\n",
    "nltk.download('punkt')\n",
    "nltk.download('stopwords')\n",
    "nltk.download('wordnet')\n",
    "nltk.download(\"averaged_perceptron_tagger\")\n",
    "nltk.download('omw-1.4')"
   ]
  },
  {
   "attachments": {},
   "cell_type": "markdown",
   "id": "0d527eff",
   "metadata": {},
   "source": [
    "## 3 - Loading and Preparing the Data"
   ]
  },
  {
   "attachments": {},
   "cell_type": "markdown",
   "id": "51944083",
   "metadata": {},
   "source": [
    "Load the training and testing datasets, then merge the test datasets, and replace -1 with NaN values and drop rows with missing values."
   ]
  },
  {
   "cell_type": "code",
   "execution_count": 2,
   "id": "bd0f6e27",
   "metadata": {},
   "outputs": [],
   "source": [
    "# Loading datasets\n",
    "df_train = pd.read_csv('data/train.csv', index_col='id')\n",
    "\n",
    "# Merging test datasets\n",
    "df_test_text = pd.read_csv('data/test.csv', index_col='id')\n",
    "df_test_labels = pd.read_csv('data/test_labels.csv', index_col='id')\n",
    "df_test = df_test_text.merge(df_test_labels, on='id')\n",
    "df_test = df_test.replace(-1, np.nan).dropna()"
   ]
  },
  {
   "attachments": {},
   "cell_type": "markdown",
   "id": "c4e40887",
   "metadata": {},
   "source": [
    "## 4 - Text Processing"
   ]
  },
  {
   "attachments": {},
   "cell_type": "markdown",
   "id": "0b10f519",
   "metadata": {},
   "source": [
    "Define functions for text processing, including:\n",
    "- get_wordnet_pos(): Get the WordNet POS tag for a given POS tag.\n",
    "- lemmatize_tokens(): Lemmatize a list of tokens using their POS tags.\n",
    "- text_processing(): Preprocess text by removing URLs, converting to lowercase, tokenizing, removing stopwords, punctuation, and numbers, and performing lemmatization."
   ]
  },
  {
   "cell_type": "code",
   "execution_count": 3,
   "id": "87ded5b2",
   "metadata": {},
   "outputs": [],
   "source": [
    "def get_wordnet_pos(tag):\n",
    "    \"\"\"Get the WordNet POS tag for a given POS tag.\"\"\"\n",
    "    if tag.startswith('J'):\n",
    "        return wordnet.ADJ\n",
    "    elif tag.startswith('V'):\n",
    "        return wordnet.VERB\n",
    "    elif tag.startswith('N'):\n",
    "        return wordnet.NOUN\n",
    "    elif tag.startswith('R'):\n",
    "        return wordnet.ADV\n",
    "    else:\n",
    "        return wordnet.NOUN"
   ]
  },
  {
   "cell_type": "code",
   "execution_count": 4,
   "id": "7c9f739e",
   "metadata": {},
   "outputs": [],
   "source": [
    "lemmatizer = WordNetLemmatizer()\n",
    "def lemmatize_tokens(tokens):\n",
    "    \"\"\"Lemmatize a list of tokens using their POS tags.\"\"\"\n",
    "    pos_tag_tokens = pos_tag(tokens)\n",
    "    lemm_list = []\n",
    "\n",
    "    for tag in pos_tag_tokens:\n",
    "        lemm_token = lemmatizer.lemmatize(tag[0], get_wordnet_pos(tag[1]))\n",
    "        lemm_list.append(lemm_token)\n",
    "\n",
    "    return lemm_list"
   ]
  },
  {
   "cell_type": "code",
   "execution_count": 5,
   "id": "a7c121c2",
   "metadata": {},
   "outputs": [],
   "source": [
    "url_regex = 'http[s]?://(?:[a-zA-Z]|[0-9]|[$-_@.&+]|[!*\\(\\),]|(?:%[0-9a-fA-F][0-9a-fA-F]))+'\n",
    "stop_words_punct = set(stopwords.words('english')).union(set(string.punctuation))\n",
    "def text_processing(text):\n",
    "    \"\"\"\n",
    "    Preprocess a given text by removing URLs, lowercase, tokenization, stopword and punctuation removal,\n",
    "    number removal, and lemmatization.\n",
    "    \"\"\"\n",
    "    # Filtering URLs\n",
    "    detected_urls = re.findall(url_regex, text)\n",
    "    for url in detected_urls:\n",
    "        text = text.replace(url, \"<urlplaceholder>\")\n",
    "\n",
    "    # Stripping and lowercasing the input text\n",
    "    text = text.strip().lower()\n",
    "\n",
    "    # Tokenization\n",
    "    words = word_tokenize(text)\n",
    "\n",
    "    # Stopword, punctuation, and number removal\n",
    "    words = [token for token in words if (len(token) > 2) and (token not in stop_words_punct) and not token.isdigit()]\n",
    "\n",
    "    # Lemmatization\n",
    "    words = lemmatize_tokens(words)\n",
    "\n",
    "    # Returning the processed sentence\n",
    "    return ' '.join(words)"
   ]
  },
  {
   "attachments": {},
   "cell_type": "markdown",
   "id": "e630ee2c",
   "metadata": {},
   "source": [
    "Apply the text processing function to the training and testing datasets.\n",
    "\n",
    "Using the Py library 'swifter' to speed up the text processing Pandas function apply."
   ]
  },
  {
   "cell_type": "code",
   "execution_count": 6,
   "id": "83dc3dff",
   "metadata": {},
   "outputs": [
    {
     "data": {
      "application/vnd.jupyter.widget-view+json": {
       "model_id": "9cd2e2677f044b399da3015e61d8a7ae",
       "version_major": 2,
       "version_minor": 0
      },
      "text/plain": [
       "Pandas Apply:   0%|          | 0/159571 [00:00<?, ?it/s]"
      ]
     },
     "metadata": {},
     "output_type": "display_data"
    },
    {
     "data": {
      "application/vnd.jupyter.widget-view+json": {
       "model_id": "37c01b4890674d2d920f1c42cfd55146",
       "version_major": 2,
       "version_minor": 0
      },
      "text/plain": [
       "Pandas Apply:   0%|          | 0/63978 [00:00<?, ?it/s]"
      ]
     },
     "metadata": {},
     "output_type": "display_data"
    }
   ],
   "source": [
    "# Clear comments text\n",
    "df_train['comment_text_cleaned'] = df_train['comment_text'].swifter.apply(text_processing)\n",
    "df_test['comment_text_cleaned'] = df_test['comment_text'].swifter.apply(text_processing)"
   ]
  },
  {
   "attachments": {},
   "cell_type": "markdown",
   "id": "3a5ef29a",
   "metadata": {},
   "source": [
    "## 5 - Data Analysis and Visualization"
   ]
  },
  {
   "attachments": {},
   "cell_type": "markdown",
   "id": "744d9467",
   "metadata": {},
   "source": [
    "Printing random comments - Deleted outputs due to curse words."
   ]
  },
  {
   "cell_type": "code",
   "execution_count": null,
   "id": "e3e230b8",
   "metadata": {},
   "outputs": [],
   "source": [
    "# Printing random comments before \n",
    "df_train.sample(1)['comment_text']"
   ]
  },
  {
   "cell_type": "code",
   "execution_count": null,
   "id": "5254f5c1",
   "metadata": {},
   "outputs": [],
   "source": [
    "# and after cleaning\n",
    "df_train.sample(1)['comment_text_cleaned']"
   ]
  },
  {
   "attachments": {},
   "cell_type": "markdown",
   "id": "aced3c9f",
   "metadata": {},
   "source": [
    "Calculate word count for each comment, then plotting word count distribution for both the training and testing datasets.<br>\n",
    "The calculation is basically a labda funciton that splits the comment text into words and count them for each row."
   ]
  },
  {
   "cell_type": "code",
   "execution_count": 9,
   "id": "30e4fc2b",
   "metadata": {},
   "outputs": [
    {
     "data": {
      "application/vnd.jupyter.widget-view+json": {
       "model_id": "733103f0d7fc462a8c015dcb2c147965",
       "version_major": 2,
       "version_minor": 0
      },
      "text/plain": [
       "Pandas Apply:   0%|          | 0/159571 [00:00<?, ?it/s]"
      ]
     },
     "metadata": {},
     "output_type": "display_data"
    },
    {
     "data": {
      "application/vnd.jupyter.widget-view+json": {
       "model_id": "ae473dffea394745ba152bacbda88e5f",
       "version_major": 2,
       "version_minor": 0
      },
      "text/plain": [
       "Pandas Apply:   0%|          | 0/63978 [00:00<?, ?it/s]"
      ]
     },
     "metadata": {},
     "output_type": "display_data"
    }
   ],
   "source": [
    "# Applying comments cleaning function to whole datasets\n",
    "df_train['word_count'] = df_train['comment_text_cleaned'].swifter.apply(lambda x: len(str(x).split()))\n",
    "df_test['word_count'] = df_test['comment_text_cleaned'].swifter.apply(lambda x: len(str(x).split()))"
   ]
  },
  {
   "cell_type": "code",
   "execution_count": 10,
   "id": "7a02f39c",
   "metadata": {},
   "outputs": [
    {
     "data": {
      "image/png": "[encoded data removed]",
      "text/plain": [
       "<Figure size 1000x800 with 1 Axes>"
      ]
     },
     "metadata": {},
     "output_type": "display_data"
    }
   ],
   "source": [
    "# Plotting word counts for train dataset\n",
    "df_plot_train = df_train[df_train['word_count'] < 170]\n",
    "\n",
    "plt.figure(figsize=(10,8))\n",
    "sns.histplot(data=df_plot_train, x='word_count')\n",
    "plt.title('Word counts - Train Dataset')\n",
    "plt.xlabel('Words')\n",
    "plt.ylabel('Comments')\n",
    "plt.show()"
   ]
  },
  {
   "cell_type": "code",
   "execution_count": 11,
   "id": "2ddb4da9",
   "metadata": {},
   "outputs": [
    {
     "name": "stdout",
     "output_type": "stream",
     "text": [
      "97.37% of the words have <170.\n"
     ]
    }
   ],
   "source": [
    "train_comments = (sum(df_train['word_count'] < 170)/df_train.shape[0])*100\n",
    "print('{:.2f}% of the words have <170.'.format(train_comments))"
   ]
  },
  {
   "cell_type": "code",
   "execution_count": 12,
   "id": "46b78ef7",
   "metadata": {},
   "outputs": [
    {
     "data": {
      "image/png": "[encoded data removed]",
      "text/plain": [
       "<Figure size 1000x800 with 1 Axes>"
      ]
     },
     "metadata": {},
     "output_type": "display_data"
    }
   ],
   "source": [
    "# Plotting word counts for test dataset\n",
    "df_plot_test = df_test[df_test['word_count'] < 170]\n",
    "\n",
    "plt.figure(figsize=(10,8))\n",
    "sns.histplot(data=df_plot_test, x='word_count')\n",
    "plt.title('Word counts - Test Dataset')\n",
    "plt.xlabel('Words')\n",
    "plt.ylabel('Comments')\n",
    "plt.show()"
   ]
  },
  {
   "cell_type": "code",
   "execution_count": 13,
   "id": "dfcb3be7",
   "metadata": {},
   "outputs": [
    {
     "name": "stdout",
     "output_type": "stream",
     "text": [
      "97.37% of the words have <170.\n"
     ]
    }
   ],
   "source": [
    "test_comments = (sum(df_test['word_count'] < 170)/df_test.shape[0])*100\n",
    "print('{:.2f}% of the words have <170.'.format(test_comments))"
   ]
  },
  {
   "attachments": {},
   "cell_type": "markdown",
   "id": "154ff1eb",
   "metadata": {},
   "source": [
    "Plot label distribution for the training dataset only.<br>\n",
    "Here we can clearly see our imbalanced dataset."
   ]
  },
  {
   "cell_type": "code",
   "execution_count": 14,
   "id": "d9039581",
   "metadata": {},
   "outputs": [
    {
     "data": {
      "image/png": "[encoded data removed]",
      "text/plain": [
       "<Figure size 1500x1000 with 1 Axes>"
      ]
     },
     "metadata": {},
     "output_type": "display_data"
    }
   ],
   "source": [
    "# Plotting label distribution for train dataset\n",
    "label_columns = ['toxic', 'severe_toxic', 'obscene', 'threat', 'insult', 'identity_hate']\n",
    "df_plot_labels = df_train[df_train[label_columns] == 1][label_columns].count()\n",
    "\n",
    "plt.figure(figsize=(15,10))\n",
    "sns.barplot(x=df_plot_labels.values, y=df_plot_labels.index)\n",
    "plt.title('Train Label Distribution')\n",
    "plt.xlabel('Count')\n",
    "plt.ylabel('Label')\n",
    "plt.show()"
   ]
  },
  {
   "attachments": {},
   "cell_type": "markdown",
   "id": "84b1dcae",
   "metadata": {},
   "source": [
    "## 6 - Tokenization and Padding"
   ]
  },
  {
   "attachments": {},
   "cell_type": "markdown",
   "id": "48132763",
   "metadata": {},
   "source": [
    "Create a tokenizer and fit it on the training dataset.<br>\n",
    "It will generate an word indexer as a vocaulary, so we can have the index word size."
   ]
  },
  {
   "cell_type": "code",
   "execution_count": 15,
   "id": "2b6495be",
   "metadata": {},
   "outputs": [],
   "source": [
    "# Creating Tokenizer\n",
    "filters = '!\"#$%&()*+,-./:;<=>@[\\]^_`{|}~ '\n",
    "tokenizer = Tokenizer(num_words=100000, oov_token='<OOV>', filters=filters)\n",
    "tokenizer.fit_on_texts(df_train['comment_text_cleaned'])"
   ]
  },
  {
   "cell_type": "code",
   "execution_count": 16,
   "id": "cce1cad9",
   "metadata": {},
   "outputs": [
    {
     "name": "stdout",
     "output_type": "stream",
     "text": [
      "Total words in vocabulary:  174468\n"
     ]
    }
   ],
   "source": [
    "vocab_size = len(tokenizer.index_word) + 1\n",
    "print('Total words in vocabulary: ', vocab_size)"
   ]
  },
  {
   "attachments": {},
   "cell_type": "markdown",
   "id": "b5313aaf",
   "metadata": {},
   "source": [
    "Tokenizing and padding the text data for both the training and testing datasets.<br>\n",
    "The padding will add zeros to the Tokenized vectors."
   ]
  },
  {
   "cell_type": "code",
   "execution_count": 17,
   "id": "2b0c2250",
   "metadata": {},
   "outputs": [],
   "source": [
    "# Sequence length for padding and truncating text sequences\n",
    "seq_len = 200\n",
    "\n",
    "# Tokenize and pad the text data\n",
    "X_train = tokenizer.texts_to_sequences(df_train['comment_text_cleaned'])\n",
    "X_train = pad_sequences(X_train, maxlen=seq_len, padding='post')\n",
    "\n",
    "X_test = tokenizer.texts_to_sequences(df_test['comment_text_cleaned'])\n",
    "X_test = pad_sequences(X_test, maxlen=seq_len, padding='post')"
   ]
  },
  {
   "cell_type": "code",
   "execution_count": 18,
   "id": "ff6c12c2",
   "metadata": {},
   "outputs": [],
   "source": [
    "# Extract target columns for train and test datasets\n",
    "target_columns = ['toxic', 'severe_toxic', 'obscene', 'threat', 'insult', 'identity_hate']\n",
    "y_train = df_train[target_columns].values\n",
    "y_test = df_test[target_columns].values"
   ]
  },
  {
   "attachments": {},
   "cell_type": "markdown",
   "id": "3048ba39",
   "metadata": {},
   "source": [
    "## 7 - Preparing GloVe Embeddings"
   ]
  },
  {
   "attachments": {},
   "cell_type": "markdown",
   "id": "794d6e1d",
   "metadata": {},
   "source": [
    "First we need to download the pre-trained embeddings weights.<br>\n",
    "You can download the Zip file here: [glove.6B.zip](https://nlp.stanford.edu/data/glove.6B.zip)"
   ]
  },
  {
   "cell_type": "code",
   "execution_count": 19,
   "id": "a4cd4a73",
   "metadata": {},
   "outputs": [],
   "source": [
    "# Loading GloVe embeddings weights\n",
    "glove_embedding_filepath = os.path.abspath('data/glove.6B.100d.txt')"
   ]
  },
  {
   "cell_type": "code",
   "execution_count": 20,
   "id": "03bd2549",
   "metadata": {},
   "outputs": [],
   "source": [
    "def create_embedding_matrix (filepath, word_index, embedding_dim):\n",
    "    \"\"\"Create embedding matrix using GloVe weights.\"\"\"\n",
    "    vocab_size = len(word_index) + 1\n",
    "    embedding_matrix = np.zeros((vocab_size, embedding_dim))\n",
    "    \n",
    "    with open(filepath) as file:\n",
    "        for line in file:\n",
    "            word, *vector = line.split()\n",
    "            if word in word_index:\n",
    "                idx = word_index[word]\n",
    "                embedding_matrix[idx] = np.array(vector, dtype=np.float32)[:embedding_dim]\n",
    "    \n",
    "    return embedding_matrix"
   ]
  },
  {
   "attachments": {},
   "cell_type": "markdown",
   "id": "f1aaa94a",
   "metadata": {},
   "source": [
    "The function in the cell above create an embedding matrix using the GloVe weights.<br>\n",
    "Below we can create the matrix for future usage.<br>\n",
    "Note that we are sending GloVe file content, word indexes, and setting the dimentions to create a complete embedding weights matrix."
   ]
  },
  {
   "cell_type": "code",
   "execution_count": 21,
   "id": "2e827774",
   "metadata": {},
   "outputs": [],
   "source": [
    "# Creating embedding matrix\n",
    "embedding_dim = 100\n",
    "embedding_matrix = create_embedding_matrix(glove_embedding_filepath, tokenizer.word_index, embedding_dim)"
   ]
  },
  {
   "attachments": {},
   "cell_type": "markdown",
   "id": "775b64f1",
   "metadata": {},
   "source": [
    "## 8 - Model Creation and Training"
   ]
  },
  {
   "attachments": {},
   "cell_type": "markdown",
   "id": "96656b99",
   "metadata": {},
   "source": [
    "Define a function to create and compile the neural network model with an embedding layer using GloVe weights, an LSTM layer, and a dense output layer.\n",
    "\n"
   ]
  },
  {
   "cell_type": "code",
   "execution_count": 22,
   "id": "4ae4ec1f",
   "metadata": {},
   "outputs": [
    {
     "name": "stdout",
     "output_type": "stream",
     "text": [
      "Model: \"model\"\n",
      "_________________________________________________________________\n",
      " Layer (type)                Output Shape              Param #   \n",
      "=================================================================\n",
      " input_1 (InputLayer)        [(None, 200)]             0         \n",
      "                                                                 \n",
      " embedding (Embedding)       (None, 200, 100)          17446800  \n",
      "                                                                 \n",
      " lstm (LSTM)                 (None, 128)               117248    \n",
      "                                                                 \n",
      " dense (Dense)               (None, 6)                 774       \n",
      "                                                                 \n",
      "=================================================================\n",
      "Total params: 17,564,822\n",
      "Trainable params: 118,022\n",
      "Non-trainable params: 17,446,800\n",
      "_________________________________________________________________\n"
     ]
    }
   ],
   "source": [
    "def create_model(seq_len=200, voc_size=0, emb_dim=100, glove_embes_matrix=None):\n",
    "    \"\"\"\n",
    "    Create a neural network model using Keras with an Embedding layer using GloVe weights,\n",
    "    an LSTM layer, and a Dense output layer.\n",
    "    \"\"\"\n",
    "    # Input layer\n",
    "    input_layer = Input(shape=(seq_len,))\n",
    "\n",
    "    # Embedding layer with GloVe weights\n",
    "    embedding_layer = Embedding(voc_size,\n",
    "                                emb_dim,\n",
    "                                weights=[glove_embes_matrix],\n",
    "                                trainable=False)(input_layer)\n",
    "\n",
    "    # LSTM layer captures the sequential information and long-term dependencies in the comment texts\n",
    "    LSTM_Layer = LSTM(128)(embedding_layer)\n",
    "\n",
    "    # Dense output layer with sigmoid activation for multi-label classification\n",
    "    dense_layer = Dense(6, activation='sigmoid')(LSTM_Layer)\n",
    "\n",
    "    # Define the model\n",
    "    model = Model(inputs=input_layer, outputs=dense_layer)\n",
    "\n",
    "    # Compile the model with binary crossentropy loss for multi-label classification,\n",
    "    # using the Adam optimizer and accuracy as the evaluation metric\n",
    "    model.compile(loss='binary_crossentropy', optimizer='adam', \n",
    "            metrics=['accuracy', Precision(name='precision'), Recall(name='recall')])\n",
    "\n",
    "\n",
    "    return model\n",
    "\n",
    "\n",
    "# Create the model\n",
    "model = create_model(seq_len, vocab_size, embedding_dim, embedding_matrix)\n",
    "model.summary()"
   ]
  },
  {
   "attachments": {},
   "cell_type": "markdown",
   "id": "bfcce1d9",
   "metadata": {},
   "source": [
    "After created the model, we need to train it fitting the train data.<br>\n",
    "We also use the test data to validate the model acurracy.<br>\n",
    "With 5 epochs and batch size of 128, it was used a NVIDIA GeForce GTX 1080 Ti 11 GB GPU to train the model."
   ]
  },
  {
   "cell_type": "code",
   "execution_count": 23,
   "id": "dd78cb8a",
   "metadata": {},
   "outputs": [
    {
     "name": "stdout",
     "output_type": "stream",
     "text": [
      "Epoch 1/20\n",
      "998/998 [==============================] - 33s 29ms/step - loss: 0.1548 - accuracy: 0.9705 - precision: 0.1129 - recall: 0.0183 - val_loss: 0.1400 - val_accuracy: 0.9941 - val_precision: 1.0000 - val_recall: 2.8588e-04\n",
      "Epoch 2/20\n",
      "998/998 [==============================] - 27s 27ms/step - loss: 0.1374 - accuracy: 0.9942 - precision: 0.8739 - recall: 0.0035 - val_loss: 0.1362 - val_accuracy: 0.9941 - val_precision: 0.9268 - val_recall: 0.0054\n",
      "Epoch 3/20\n",
      "998/998 [==============================] - 27s 27ms/step - loss: 0.1352 - accuracy: 0.9942 - precision: 0.8243 - recall: 0.0087 - val_loss: 0.1334 - val_accuracy: 0.9941 - val_precision: 0.7174 - val_recall: 0.0094\n",
      "Epoch 4/20\n",
      "998/998 [==============================] - 27s 27ms/step - loss: 0.0846 - accuracy: 0.9934 - precision: 0.7359 - recall: 0.3819 - val_loss: 0.0659 - val_accuracy: 0.9941 - val_precision: 0.7925 - val_recall: 0.5290\n",
      "Epoch 5/20\n",
      "998/998 [==============================] - 27s 27ms/step - loss: 0.0604 - accuracy: 0.9942 - precision: 0.7923 - recall: 0.5726 - val_loss: 0.0600 - val_accuracy: 0.9941 - val_precision: 0.7575 - val_recall: 0.6221\n",
      "Epoch 6/20\n",
      "998/998 [==============================] - 27s 27ms/step - loss: 0.0558 - accuracy: 0.9942 - precision: 0.8078 - recall: 0.6024 - val_loss: 0.0574 - val_accuracy: 0.9941 - val_precision: 0.8004 - val_recall: 0.5966\n",
      "Epoch 7/20\n",
      "998/998 [==============================] - 27s 27ms/step - loss: 0.0527 - accuracy: 0.9940 - precision: 0.8162 - recall: 0.6226 - val_loss: 0.0553 - val_accuracy: 0.9940 - val_precision: 0.8396 - val_recall: 0.5723\n",
      "Epoch 8/20\n",
      "998/998 [==============================] - 28s 28ms/step - loss: 0.0503 - accuracy: 0.9938 - precision: 0.8212 - recall: 0.6397 - val_loss: 0.0562 - val_accuracy: 0.9939 - val_precision: 0.8533 - val_recall: 0.5553\n",
      "Epoch 9/20\n",
      "998/998 [==============================] - 27s 28ms/step - loss: 0.0484 - accuracy: 0.9937 - precision: 0.8237 - recall: 0.6553 - val_loss: 0.0542 - val_accuracy: 0.9941 - val_precision: 0.7779 - val_recall: 0.6514\n",
      "Epoch 10/20\n",
      "998/998 [==============================] - 28s 28ms/step - loss: 0.0466 - accuracy: 0.9937 - precision: 0.8267 - recall: 0.6663 - val_loss: 0.0584 - val_accuracy: 0.9933 - val_precision: 0.8098 - val_recall: 0.6146\n",
      "Epoch 11/20\n",
      "998/998 [==============================] - 27s 27ms/step - loss: 0.0447 - accuracy: 0.9925 - precision: 0.8298 - recall: 0.6819 - val_loss: 0.0568 - val_accuracy: 0.9919 - val_precision: 0.8297 - val_recall: 0.6011\n",
      "Epoch 12/20\n",
      "998/998 [==============================] - 27s 27ms/step - loss: 0.0433 - accuracy: 0.9924 - precision: 0.8337 - recall: 0.6900 - val_loss: 0.0542 - val_accuracy: 0.9928 - val_precision: 0.7972 - val_recall: 0.6281\n",
      "Epoch 13/20\n",
      "998/998 [==============================] - 27s 27ms/step - loss: 0.0413 - accuracy: 0.9914 - precision: 0.8352 - recall: 0.7117 - val_loss: 0.0558 - val_accuracy: 0.9892 - val_precision: 0.7962 - val_recall: 0.6454\n",
      "Epoch 14/20\n",
      "998/998 [==============================] - 27s 27ms/step - loss: 0.0398 - accuracy: 0.9910 - precision: 0.8387 - recall: 0.7245 - val_loss: 0.0562 - val_accuracy: 0.9907 - val_precision: 0.7512 - val_recall: 0.6822\n",
      "Epoch 15/20\n",
      "998/998 [==============================] - 27s 27ms/step - loss: 0.0382 - accuracy: 0.9906 - precision: 0.8404 - recall: 0.7362 - val_loss: 0.0558 - val_accuracy: 0.9915 - val_precision: 0.7957 - val_recall: 0.6469\n",
      "Epoch 16/20\n",
      "998/998 [==============================] - 27s 27ms/step - loss: 0.0369 - accuracy: 0.9902 - precision: 0.8476 - recall: 0.7469 - val_loss: 0.0585 - val_accuracy: 0.9912 - val_precision: 0.7772 - val_recall: 0.6612\n",
      "Epoch 17/20\n",
      "998/998 [==============================] - 27s 27ms/step - loss: 0.0353 - accuracy: 0.9903 - precision: 0.8520 - recall: 0.7620 - val_loss: 0.0568 - val_accuracy: 0.9924 - val_precision: 0.7483 - val_recall: 0.6801\n",
      "Epoch 18/20\n",
      "998/998 [==============================] - 27s 27ms/step - loss: 0.0341 - accuracy: 0.9906 - precision: 0.8574 - recall: 0.7708 - val_loss: 0.0604 - val_accuracy: 0.9888 - val_precision: 0.7540 - val_recall: 0.6810\n",
      "Epoch 19/20\n",
      "998/998 [==============================] - 27s 27ms/step - loss: 0.0325 - accuracy: 0.9900 - precision: 0.8605 - recall: 0.7848 - val_loss: 0.0607 - val_accuracy: 0.9924 - val_precision: 0.7707 - val_recall: 0.6472\n",
      "Epoch 20/20\n",
      "998/998 [==============================] - 27s 27ms/step - loss: 0.0312 - accuracy: 0.9903 - precision: 0.8652 - recall: 0.7974 - val_loss: 0.0614 - val_accuracy: 0.9880 - val_precision: 0.7406 - val_recall: 0.6745\n"
     ]
    }
   ],
   "source": [
    "# Training the model\n",
    "history = model.fit(\n",
    "    X_train, y_train, \n",
    "    epochs=20, batch_size=128,\n",
    "    # validation_data=(X_test, y_test)\n",
    "    validation_split=.2\n",
    ")"
   ]
  },
  {
   "attachments": {},
   "cell_type": "markdown",
   "id": "da58a38a",
   "metadata": {},
   "source": [
    "## 9 - Model Evaluation"
   ]
  },
  {
   "attachments": {},
   "cell_type": "markdown",
   "id": "5b01d1d6",
   "metadata": {},
   "source": [
    "Create a dataframe with the training history (loss, accuracy, validation loss, and validation accuracy)."
   ]
  },
  {
   "cell_type": "code",
   "execution_count": 24,
   "id": "b8a40ed2",
   "metadata": {},
   "outputs": [
    {
     "name": "stdout",
     "output_type": "stream",
     "text": [
      "        loss  accuracy  precision    recall  val_loss  val_accuracy   \n",
      "0   0.154847  0.970491   0.112871  0.018255  0.140024      0.994109  \\\n",
      "1   0.137394  0.994180   0.873874  0.003452  0.136165      0.994109   \n",
      "2   0.135208  0.994180   0.824324  0.008683  0.133449      0.994109   \n",
      "3   0.084572  0.993388   0.735875  0.381895  0.065864      0.994109   \n",
      "4   0.060416  0.994172   0.792270  0.572593  0.060038      0.994109   \n",
      "5   0.055790  0.994164   0.807845  0.602448  0.057418      0.994109   \n",
      "6   0.052708  0.993960   0.816244  0.622625  0.055310      0.994047   \n",
      "7   0.050343  0.993757   0.821243  0.639705  0.056177      0.993859   \n",
      "8   0.048419  0.993733   0.823724  0.655327  0.054248      0.994078   \n",
      "9   0.046582  0.993725   0.826747  0.666323  0.058359      0.993295   \n",
      "10  0.044713  0.992511   0.829847  0.681873  0.056776      0.991853   \n",
      "11  0.043299  0.992386   0.833692  0.689986  0.054240      0.992793   \n",
      "12  0.041317  0.991375   0.835185  0.711729  0.055840      0.989159   \n",
      "13  0.039810  0.990976   0.838661  0.724539  0.056168      0.990694   \n",
      "14  0.038229  0.990553   0.840429  0.736175  0.055793      0.991540   \n",
      "15  0.036941  0.990232   0.847636  0.746922  0.058496      0.991195   \n",
      "16  0.035297  0.990255   0.851959  0.762010  0.056811      0.992355   \n",
      "17  0.034097  0.990584   0.857448  0.770764  0.060442      0.988845   \n",
      "18  0.032535  0.989989   0.860481  0.784820  0.060724      0.992386   \n",
      "19  0.031212  0.990326   0.865179  0.797417  0.061417      0.987968   \n",
      "\n",
      "    val_precision  val_recall  \n",
      "0        1.000000    0.000286  \n",
      "1        0.926829    0.005432  \n",
      "2        0.717391    0.009434  \n",
      "3        0.792505    0.529017  \n",
      "4        0.757528    0.622070  \n",
      "5        0.800384    0.596627  \n",
      "6        0.839589    0.572327  \n",
      "7        0.853284    0.555317  \n",
      "8        0.777911    0.651372  \n",
      "9        0.809793    0.614637  \n",
      "10       0.829716    0.601058  \n",
      "11       0.797170    0.628073  \n",
      "12       0.796156    0.645369  \n",
      "13       0.751180    0.682247  \n",
      "14       0.795710    0.646941  \n",
      "15       0.777218    0.661235  \n",
      "16       0.748349    0.680103  \n",
      "17       0.754036    0.680961  \n",
      "18       0.770723    0.647227  \n",
      "19       0.740584    0.674528  \n"
     ]
    }
   ],
   "source": [
    "# Creating dataframe with metrics\n",
    "metrics_df = pd.DataFrame(history.history)\n",
    "print(metrics_df)"
   ]
  },
  {
   "attachments": {},
   "cell_type": "markdown",
   "id": "70c99336",
   "metadata": {},
   "source": [
    "After training the model and creating the metrics dataframe, let's plot model accuracy and loss curves.<br>\n",
    "Plotting those will help us to understand how better our model got trained."
   ]
  },
  {
   "cell_type": "code",
   "execution_count": 25,
   "id": "3bc0d226",
   "metadata": {},
   "outputs": [],
   "source": [
    "# Calculating F1 score metric based on the precision and recall metrics\n",
    "precision = metrics_df['precision']\n",
    "recall = metrics_df['recall']\n",
    "f1_score = [2 * (precision[i] * recall[i]) / (precision[i] + recall[i]) for i in range(len(precision))]\n",
    "\n",
    "# Do the same for validation\n",
    "val_precision = metrics_df['val_precision']\n",
    "val_recall = metrics_df['val_recall']\n",
    "val_f1_score = [2 * (val_precision[i] * val_recall[i]) / (val_precision[i] + val_recall[i]) for i in range(len(val_precision))]"
   ]
  },
  {
   "cell_type": "code",
   "execution_count": 26,
   "id": "27ccf9da",
   "metadata": {},
   "outputs": [
    {
     "data": {
      "image/png": "[encoded data removed]",
      "text/plain": [
       "<Figure size 1000x500 with 1 Axes>"
      ]
     },
     "metadata": {},
     "output_type": "display_data"
    }
   ],
   "source": [
    "# Printing F1 score metric for trainig and validation\n",
    "plt.figure(figsize=(10,5))\n",
    "plt.plot(f1_score)\n",
    "plt.plot(val_f1_score)\n",
    "plt.title('Model Accuracy - F1-score')\n",
    "plt.xlabel('Epochs')\n",
    "plt.ylabel('F1-score')\n",
    "plt.legend(['Train', 'Test'])\n",
    "plt.show()"
   ]
  },
  {
   "cell_type": "code",
   "execution_count": 27,
   "id": "5d3180da",
   "metadata": {},
   "outputs": [
    {
     "data": {
      "image/png": "[encoded data removed]",
      "text/plain": [
       "<Figure size 1000x500 with 1 Axes>"
      ]
     },
     "metadata": {},
     "output_type": "display_data"
    }
   ],
   "source": [
    "# Plotting loss curves\n",
    "plt.figure(figsize=(10,5))\n",
    "plt.plot(metrics_df.index, metrics_df.loss)\n",
    "plt.plot(metrics_df.index, metrics_df.val_loss)\n",
    "plt.title('Model Loss')\n",
    "plt.xlabel('Epochs')\n",
    "plt.ylabel('Categorical Crossentropy Loss')\n",
    "plt.legend(['Train', 'Test'])\n",
    "plt.show()"
   ]
  },
  {
   "attachments": {},
   "cell_type": "markdown",
   "id": "d3d33b51",
   "metadata": {},
   "source": [
    "And the last step, evaluating and print the test data using our model."
   ]
  },
  {
   "cell_type": "code",
   "execution_count": 28,
   "id": "489b2d54",
   "metadata": {},
   "outputs": [
    {
     "name": "stdout",
     "output_type": "stream",
     "text": [
      "2000/2000 [==============================] - 25s 13ms/step - loss: 0.0948 - accuracy: 0.9894 - precision: 0.5290 - recall: 0.7244\n",
      "Test loss: 0.09476814419031143\n",
      "Test accuracy: 0.989355742931366\n",
      "Test precision: 0.5289880633354187\n",
      "Test recall: 0.7243757843971252\n",
      "Test F1-score: 0.6114523631881209\n"
     ]
    }
   ],
   "source": [
    "# Printing model evaluation based on the test data\n",
    "loss, accuracy, precision, recall = model.evaluate(X_test, y_test)\n",
    "f1_score = 2 * (precision * recall) / (precision + recall)\n",
    "print('Test loss:', loss)\n",
    "print('Test accuracy:', accuracy)\n",
    "print('Test precision:', precision)\n",
    "print('Test recall:', recall)\n",
    "print('Test F1-score:', f1_score)"
   ]
  }
 ],
 "metadata": {
  "kernelspec": {
   "display_name": "Python 3 (ipykernel)",
   "language": "python",
   "name": "python3"
  },
  "language_info": {
   "codemirror_mode": {
    "name": "ipython",
    "version": 3
   },
   "file_extension": ".py",
   "mimetype": "text/x-python",
   "name": "python",
   "nbconvert_exporter": "python",
   "pygments_lexer": "ipython3",
   "version": "3.8.10"
  }
 },
 "nbformat": 4,
 "nbformat_minor": 5
}
